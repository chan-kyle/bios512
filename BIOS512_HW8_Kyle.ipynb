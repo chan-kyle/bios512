{
  "cells": [
    {
      "cell_type": "markdown",
      "id": "77b97eda-a875-49d9-922a-aca98f18d1ea",
      "metadata": {
        "id": "77b97eda-a875-49d9-922a-aca98f18d1ea"
      },
      "source": [
        "# Homework 08\n",
        "This homework is based on the clustering lectures. Check the lecture notes and TA notes - they should help!"
      ]
    },
    {
      "cell_type": "markdown",
      "id": "f75ac688-c3c4-4916-a858-97104be7e273",
      "metadata": {
        "id": "f75ac688-c3c4-4916-a858-97104be7e273"
      },
      "source": [
        "## Question 1\n",
        "This question will walk you through creating your own `kmeans` function."
      ]
    },
    {
      "cell_type": "markdown",
      "id": "9eb3eefd-fd8c-4688-8b9e-e2368e56d526",
      "metadata": {
        "id": "9eb3eefd-fd8c-4688-8b9e-e2368e56d526"
      },
      "source": [
        "#### a) What are the steps of `kmeans`?\n",
        "**Hint**: There are 4 steps/builder functions that you'll need.\n",
        "\n",
        "\n",
        "You need to perform random assignment of the data points to clusters (step 1). Next, you should compute the centroids (step 2), and then iterate the above by reassigning labels (step 3) and recomputing means (step 4) until convergence."
      ]
    },
    {
      "cell_type": "markdown",
      "id": "bf8b199b-d1d9-4a55-ad95-9e86ad0655bd",
      "metadata": {
        "id": "bf8b199b-d1d9-4a55-ad95-9e86ad0655bd"
      },
      "source": [
        "#### b) Create the builder function for step 1."
      ]
    },
    {
      "cell_type": "code",
      "source": [
        "label_randomly <- function(n_points, n_clusters){\n",
        "  sample(1:n_clusters, n_points, replace = TRUE)\n",
        "}"
      ],
      "metadata": {
        "id": "pobMhUMCZ47x"
      },
      "id": "pobMhUMCZ47x",
      "execution_count": 1,
      "outputs": []
    },
    {
      "cell_type": "markdown",
      "id": "9e44ddaf-4506-47d0-98fb-09871e08808c",
      "metadata": {
        "id": "9e44ddaf-4506-47d0-98fb-09871e08808c"
      },
      "source": [
        "#### c) Create the builder function for step 2."
      ]
    },
    {
      "cell_type": "code",
      "source": [
        "get_cluster_means <- function(data, labels){\n",
        "    data %>%\n",
        "      mutate(label__ = labels) %>%\n",
        "      group_by(label__) %>%\n",
        "      summarise(across(everything(), mean), .groups = \"drop\") %>%\n",
        "      mutate(label = label__) %>%\n",
        "      arrange(label)\n",
        "}"
      ],
      "metadata": {
        "id": "t8I2TVT7WRBr"
      },
      "id": "t8I2TVT7WRBr",
      "execution_count": 2,
      "outputs": []
    },
    {
      "cell_type": "markdown",
      "id": "1c8640c6-2d2f-49c3-b7ed-da0d4fb13935",
      "metadata": {
        "id": "1c8640c6-2d2f-49c3-b7ed-da0d4fb13935"
      },
      "source": [
        "#### d) Create the builder function for step 3.\n",
        "*Hint*: There are two ways to do this part - one is significantly more efficient than the other. You can do either.  "
      ]
    },
    {
      "cell_type": "code",
      "source": [
        "assign_cluster <- function(data, means){\n",
        "  data_matrix <- as.matrix(data)\n",
        "  means_matrix <- as.matrix(means %>% select(-label__, -label))\n",
        "\n",
        "  dists <- outer(rowSums(data_matrix^2), rowSums(means_matrix^2), \"+\") - 2 * (data_matrix %*% t(means_matrix))\n",
        "\n",
        "  means$label__[max.col(-dists)]\n",
        "}"
      ],
      "metadata": {
        "id": "SQ-oHya0XdDn"
      },
      "id": "SQ-oHya0XdDn",
      "execution_count": 3,
      "outputs": []
    },
    {
      "cell_type": "markdown",
      "id": "2bbea660-9bd2-4dae-9a5c-838f613b0d7c",
      "metadata": {
        "id": "2bbea660-9bd2-4dae-9a5c-838f613b0d7c"
      },
      "source": [
        "#### e) Create the builder function for step 4."
      ]
    },
    {
      "cell_type": "code",
      "source": [
        "kmeans_done <- function(old_means, new_means, eps=1e-6){\n",
        "    om <- old_means %>% select(-label__, -label) %>% as.matrix()\n",
        "    nm <- new_means %>% select(-label__, -label) %>% as.matrix()\n",
        "\n",
        "    m <- mean(sqrt(rowSums((om-nm)^2)))\n",
        "    if(m < eps) TRUE else FALSE\n",
        "}"
      ],
      "metadata": {
        "id": "TXhNvG0wXxtw"
      },
      "id": "TXhNvG0wXxtw",
      "execution_count": 4,
      "outputs": []
    },
    {
      "cell_type": "markdown",
      "id": "f3c86f61-68d2-484a-9c9c-db7f35c8e685",
      "metadata": {
        "id": "f3c86f61-68d2-484a-9c9c-db7f35c8e685"
      },
      "source": [
        "#### f) Combine them all into your own `kmeans` function."
      ]
    },
    {
      "cell_type": "code",
      "source": [
        "mykmeans <- function(data, n_clusters, eps=1e-6){\n",
        "    labels <- label_randomly(nrow(data), n_clusters)\n",
        "    old_means <- get_cluster_means(data, labels);\n",
        "    done <- FALSE\n",
        "    while (!done){\n",
        "        labels <- assign_cluster(data, old_means)\n",
        "        new_means <- get_cluster_means(data, labels)\n",
        "        if (kmeans_done(old_means, new_means)){\n",
        "            done <- TRUE\n",
        "        }\n",
        "\n",
        "        old_means <- new_means\n",
        "    }\n",
        "\n",
        "    list(labels=labels, means=new_means)\n",
        "}"
      ],
      "metadata": {
        "id": "BE09AsC-qA6e"
      },
      "id": "BE09AsC-qA6e",
      "execution_count": 5,
      "outputs": []
    },
    {
      "cell_type": "markdown",
      "id": "da13180d-3a51-4218-94a0-3f362612f099",
      "metadata": {
        "id": "da13180d-3a51-4218-94a0-3f362612f099"
      },
      "source": [
        "## Question 2\n",
        "This is when we'll test your `kmeans` function.\n",
        "#### a) Read in the `voltages_df.csv` data set."
      ]
    },
    {
      "cell_type": "code",
      "source": [
        "library(dplyr)\n",
        "library(ggplot2)\n",
        "voltages_df <- read.csv(\"voltages_df.csv\")"
      ],
      "metadata": {
        "colab": {
          "base_uri": "https://localhost:8080/"
        },
        "id": "2gJyaE1HtuuB",
        "outputId": "87c15245-541b-4a62-a2c8-7f4e50767d82"
      },
      "id": "2gJyaE1HtuuB",
      "execution_count": 6,
      "outputs": [
        {
          "output_type": "stream",
          "name": "stderr",
          "text": [
            "\n",
            "Attaching package: ‘dplyr’\n",
            "\n",
            "\n",
            "The following objects are masked from ‘package:stats’:\n",
            "\n",
            "    filter, lag\n",
            "\n",
            "\n",
            "The following objects are masked from ‘package:base’:\n",
            "\n",
            "    intersect, setdiff, setequal, union\n",
            "\n",
            "\n"
          ]
        }
      ]
    },
    {
      "cell_type": "markdown",
      "id": "1f002a7b-eda1-4d2d-8ef9-3090b563708d",
      "metadata": {
        "id": "1f002a7b-eda1-4d2d-8ef9-3090b563708d"
      },
      "source": [
        "#### b) Call your `kmeans` function with 3 clusters. Print the results with `results$labels` and `results$means`."
      ]
    },
    {
      "cell_type": "code",
      "source": [
        "results <- mykmeans(voltages_df, 3)\n",
        "results$labels\n",
        "results$means"
      ],
      "metadata": {
        "colab": {
          "base_uri": "https://localhost:8080/",
          "height": 334
        },
        "id": "CDynxQbqwD2P",
        "outputId": "2dbc70b2-7227-4673-9ce4-f437cf3efcd9"
      },
      "id": "CDynxQbqwD2P",
      "execution_count": 7,
      "outputs": [
        {
          "output_type": "display_data",
          "data": {
            "text/html": [
              "<style>\n",
              ".list-inline {list-style: none; margin:0; padding: 0}\n",
              ".list-inline>li {display: inline-block}\n",
              ".list-inline>li:not(:last-child)::after {content: \"\\00b7\"; padding: 0 .5ex}\n",
              "</style>\n",
              "<ol class=list-inline><li>1</li><li>2</li><li>2</li><li>2</li><li>2</li><li>2</li><li>3</li><li>3</li><li>2</li><li>1</li><li>1</li><li>1</li><li>3</li><li>1</li><li>2</li><li>1</li><li>1</li><li>1</li><li>1</li><li>1</li><li>2</li><li>2</li><li>2</li><li>2</li><li>2</li><li>1</li><li>1</li><li>1</li><li>3</li><li>3</li><li>3</li><li>3</li><li>2</li><li>3</li><li>3</li><li>2</li><li>2</li><li>1</li><li>3</li><li>2</li><li>1</li><li>1</li><li>1</li><li>3</li><li>2</li><li>3</li><li>3</li><li>2</li><li>3</li><li>3</li><li>2</li><li>3</li><li>1</li><li>1</li><li>3</li><li>1</li><li>2</li><li>1</li><li>3</li><li>2</li><li>1</li><li>1</li><li>2</li><li>1</li><li>3</li><li>3</li><li>2</li><li>3</li><li>1</li><li>3</li><li>1</li><li>2</li><li>3</li><li>3</li><li>2</li><li>2</li><li>1</li><li>3</li><li>3</li><li>3</li><li>3</li><li>3</li><li>2</li><li>3</li><li>3</li><li>2</li><li>2</li><li>2</li><li>1</li><li>3</li><li>3</li><li>3</li><li>2</li><li>3</li><li>2</li><li>2</li><li>3</li><li>2</li><li>2</li><li>3</li><li>3</li><li>3</li><li>2</li><li>3</li><li>1</li><li>1</li><li>3</li><li>1</li><li>1</li><li>2</li><li>1</li><li>1</li><li>2</li><li>3</li><li>1</li><li>3</li><li>1</li><li>1</li><li>2</li><li>2</li><li>2</li><li>2</li><li>1</li><li>1</li><li>3</li><li>2</li><li>2</li><li>3</li><li>1</li><li>3</li><li>2</li><li>1</li><li>2</li><li>3</li><li>1</li><li>2</li><li>2</li><li>2</li><li>1</li><li>3</li><li>1</li><li>2</li><li>2</li><li>3</li><li>1</li><li>1</li><li>2</li><li>1</li><li>1</li><li>3</li><li>1</li><li>3</li><li>2</li><li>2</li><li>3</li><li>1</li><li>3</li><li>3</li><li>2</li><li>1</li><li>3</li><li>3</li><li>1</li><li>2</li><li>1</li><li>3</li><li>2</li><li>1</li><li>2</li><li>1</li><li>1</li><li>3</li><li>2</li><li>1</li><li>3</li><li>3</li><li>2</li><li>3</li><li>1</li><li>2</li><li>3</li><li>2</li><li>3</li><li>1</li><li>3</li><li>2</li><li>2</li><li>1</li><li>2</li><li>1</li><li>1</li><li>2</li><li>1</li><li>1</li><li>3</li><li>3</li><li>1</li><li>2</li><li>1</li><li>1</li><li>⋯</li><li>1</li><li>3</li><li>3</li><li>1</li><li>1</li><li>3</li><li>2</li><li>3</li><li>3</li><li>1</li><li>2</li><li>1</li><li>3</li><li>2</li><li>1</li><li>2</li><li>2</li><li>1</li><li>2</li><li>2</li><li>1</li><li>1</li><li>2</li><li>2</li><li>1</li><li>2</li><li>3</li><li>1</li><li>1</li><li>1</li><li>1</li><li>1</li><li>2</li><li>2</li><li>1</li><li>1</li><li>2</li><li>2</li><li>1</li><li>2</li><li>1</li><li>2</li><li>3</li><li>1</li><li>1</li><li>1</li><li>2</li><li>1</li><li>3</li><li>2</li><li>2</li><li>1</li><li>1</li><li>3</li><li>1</li><li>1</li><li>3</li><li>1</li><li>3</li><li>3</li><li>1</li><li>1</li><li>2</li><li>3</li><li>1</li><li>2</li><li>3</li><li>2</li><li>2</li><li>1</li><li>3</li><li>2</li><li>3</li><li>1</li><li>2</li><li>1</li><li>1</li><li>3</li><li>1</li><li>3</li><li>2</li><li>1</li><li>1</li><li>2</li><li>3</li><li>2</li><li>1</li><li>2</li><li>1</li><li>3</li><li>1</li><li>1</li><li>2</li><li>2</li><li>2</li><li>1</li><li>2</li><li>1</li><li>3</li><li>2</li><li>2</li><li>2</li><li>2</li><li>1</li><li>1</li><li>3</li><li>2</li><li>1</li><li>1</li><li>1</li><li>1</li><li>3</li><li>3</li><li>1</li><li>3</li><li>1</li><li>2</li><li>1</li><li>2</li><li>3</li><li>2</li><li>2</li><li>2</li><li>2</li><li>2</li><li>3</li><li>3</li><li>2</li><li>3</li><li>3</li><li>3</li><li>3</li><li>3</li><li>3</li><li>2</li><li>1</li><li>1</li><li>2</li><li>3</li><li>3</li><li>1</li><li>2</li><li>3</li><li>3</li><li>3</li><li>3</li><li>1</li><li>1</li><li>2</li><li>3</li><li>2</li><li>1</li><li>3</li><li>3</li><li>3</li><li>3</li><li>1</li><li>1</li><li>3</li><li>3</li><li>3</li><li>3</li><li>3</li><li>1</li><li>2</li><li>3</li><li>2</li><li>1</li><li>2</li><li>2</li><li>3</li><li>1</li><li>3</li><li>3</li><li>1</li><li>1</li><li>2</li><li>1</li><li>1</li><li>1</li><li>3</li><li>2</li><li>3</li><li>2</li><li>2</li><li>1</li><li>1</li><li>3</li><li>3</li><li>2</li><li>1</li><li>3</li><li>3</li><li>2</li><li>2</li><li>2</li><li>2</li><li>1</li><li>3</li><li>3</li></ol>\n"
            ],
            "text/markdown": "1. 1\n2. 2\n3. 2\n4. 2\n5. 2\n6. 2\n7. 3\n8. 3\n9. 2\n10. 1\n11. 1\n12. 1\n13. 3\n14. 1\n15. 2\n16. 1\n17. 1\n18. 1\n19. 1\n20. 1\n21. 2\n22. 2\n23. 2\n24. 2\n25. 2\n26. 1\n27. 1\n28. 1\n29. 3\n30. 3\n31. 3\n32. 3\n33. 2\n34. 3\n35. 3\n36. 2\n37. 2\n38. 1\n39. 3\n40. 2\n41. 1\n42. 1\n43. 1\n44. 3\n45. 2\n46. 3\n47. 3\n48. 2\n49. 3\n50. 3\n51. 2\n52. 3\n53. 1\n54. 1\n55. 3\n56. 1\n57. 2\n58. 1\n59. 3\n60. 2\n61. 1\n62. 1\n63. 2\n64. 1\n65. 3\n66. 3\n67. 2\n68. 3\n69. 1\n70. 3\n71. 1\n72. 2\n73. 3\n74. 3\n75. 2\n76. 2\n77. 1\n78. 3\n79. 3\n80. 3\n81. 3\n82. 3\n83. 2\n84. 3\n85. 3\n86. 2\n87. 2\n88. 2\n89. 1\n90. 3\n91. 3\n92. 3\n93. 2\n94. 3\n95. 2\n96. 2\n97. 3\n98. 2\n99. 2\n100. 3\n101. 3\n102. 3\n103. 2\n104. 3\n105. 1\n106. 1\n107. 3\n108. 1\n109. 1\n110. 2\n111. 1\n112. 1\n113. 2\n114. 3\n115. 1\n116. 3\n117. 1\n118. 1\n119. 2\n120. 2\n121. 2\n122. 2\n123. 1\n124. 1\n125. 3\n126. 2\n127. 2\n128. 3\n129. 1\n130. 3\n131. 2\n132. 1\n133. 2\n134. 3\n135. 1\n136. 2\n137. 2\n138. 2\n139. 1\n140. 3\n141. 1\n142. 2\n143. 2\n144. 3\n145. 1\n146. 1\n147. 2\n148. 1\n149. 1\n150. 3\n151. 1\n152. 3\n153. 2\n154. 2\n155. 3\n156. 1\n157. 3\n158. 3\n159. 2\n160. 1\n161. 3\n162. 3\n163. 1\n164. 2\n165. 1\n166. 3\n167. 2\n168. 1\n169. 2\n170. 1\n171. 1\n172. 3\n173. 2\n174. 1\n175. 3\n176. 3\n177. 2\n178. 3\n179. 1\n180. 2\n181. 3\n182. 2\n183. 3\n184. 1\n185. 3\n186. 2\n187. 2\n188. 1\n189. 2\n190. 1\n191. 1\n192. 2\n193. 1\n194. 1\n195. 3\n196. 3\n197. 1\n198. 2\n199. 1\n200. 1\n201. ⋯\n202. 1\n203. 3\n204. 3\n205. 1\n206. 1\n207. 3\n208. 2\n209. 3\n210. 3\n211. 1\n212. 2\n213. 1\n214. 3\n215. 2\n216. 1\n217. 2\n218. 2\n219. 1\n220. 2\n221. 2\n222. 1\n223. 1\n224. 2\n225. 2\n226. 1\n227. 2\n228. 3\n229. 1\n230. 1\n231. 1\n232. 1\n233. 1\n234. 2\n235. 2\n236. 1\n237. 1\n238. 2\n239. 2\n240. 1\n241. 2\n242. 1\n243. 2\n244. 3\n245. 1\n246. 1\n247. 1\n248. 2\n249. 1\n250. 3\n251. 2\n252. 2\n253. 1\n254. 1\n255. 3\n256. 1\n257. 1\n258. 3\n259. 1\n260. 3\n261. 3\n262. 1\n263. 1\n264. 2\n265. 3\n266. 1\n267. 2\n268. 3\n269. 2\n270. 2\n271. 1\n272. 3\n273. 2\n274. 3\n275. 1\n276. 2\n277. 1\n278. 1\n279. 3\n280. 1\n281. 3\n282. 2\n283. 1\n284. 1\n285. 2\n286. 3\n287. 2\n288. 1\n289. 2\n290. 1\n291. 3\n292. 1\n293. 1\n294. 2\n295. 2\n296. 2\n297. 1\n298. 2\n299. 1\n300. 3\n301. 2\n302. 2\n303. 2\n304. 2\n305. 1\n306. 1\n307. 3\n308. 2\n309. 1\n310. 1\n311. 1\n312. 1\n313. 3\n314. 3\n315. 1\n316. 3\n317. 1\n318. 2\n319. 1\n320. 2\n321. 3\n322. 2\n323. 2\n324. 2\n325. 2\n326. 2\n327. 3\n328. 3\n329. 2\n330. 3\n331. 3\n332. 3\n333. 3\n334. 3\n335. 3\n336. 2\n337. 1\n338. 1\n339. 2\n340. 3\n341. 3\n342. 1\n343. 2\n344. 3\n345. 3\n346. 3\n347. 3\n348. 1\n349. 1\n350. 2\n351. 3\n352. 2\n353. 1\n354. 3\n355. 3\n356. 3\n357. 3\n358. 1\n359. 1\n360. 3\n361. 3\n362. 3\n363. 3\n364. 3\n365. 1\n366. 2\n367. 3\n368. 2\n369. 1\n370. 2\n371. 2\n372. 3\n373. 1\n374. 3\n375. 3\n376. 1\n377. 1\n378. 2\n379. 1\n380. 1\n381. 1\n382. 3\n383. 2\n384. 3\n385. 2\n386. 2\n387. 1\n388. 1\n389. 3\n390. 3\n391. 2\n392. 1\n393. 3\n394. 3\n395. 2\n396. 2\n397. 2\n398. 2\n399. 1\n400. 3\n401. 3\n\n\n",
            "text/latex": "\\begin{enumerate*}\n\\item 1\n\\item 2\n\\item 2\n\\item 2\n\\item 2\n\\item 2\n\\item 3\n\\item 3\n\\item 2\n\\item 1\n\\item 1\n\\item 1\n\\item 3\n\\item 1\n\\item 2\n\\item 1\n\\item 1\n\\item 1\n\\item 1\n\\item 1\n\\item 2\n\\item 2\n\\item 2\n\\item 2\n\\item 2\n\\item 1\n\\item 1\n\\item 1\n\\item 3\n\\item 3\n\\item 3\n\\item 3\n\\item 2\n\\item 3\n\\item 3\n\\item 2\n\\item 2\n\\item 1\n\\item 3\n\\item 2\n\\item 1\n\\item 1\n\\item 1\n\\item 3\n\\item 2\n\\item 3\n\\item 3\n\\item 2\n\\item 3\n\\item 3\n\\item 2\n\\item 3\n\\item 1\n\\item 1\n\\item 3\n\\item 1\n\\item 2\n\\item 1\n\\item 3\n\\item 2\n\\item 1\n\\item 1\n\\item 2\n\\item 1\n\\item 3\n\\item 3\n\\item 2\n\\item 3\n\\item 1\n\\item 3\n\\item 1\n\\item 2\n\\item 3\n\\item 3\n\\item 2\n\\item 2\n\\item 1\n\\item 3\n\\item 3\n\\item 3\n\\item 3\n\\item 3\n\\item 2\n\\item 3\n\\item 3\n\\item 2\n\\item 2\n\\item 2\n\\item 1\n\\item 3\n\\item 3\n\\item 3\n\\item 2\n\\item 3\n\\item 2\n\\item 2\n\\item 3\n\\item 2\n\\item 2\n\\item 3\n\\item 3\n\\item 3\n\\item 2\n\\item 3\n\\item 1\n\\item 1\n\\item 3\n\\item 1\n\\item 1\n\\item 2\n\\item 1\n\\item 1\n\\item 2\n\\item 3\n\\item 1\n\\item 3\n\\item 1\n\\item 1\n\\item 2\n\\item 2\n\\item 2\n\\item 2\n\\item 1\n\\item 1\n\\item 3\n\\item 2\n\\item 2\n\\item 3\n\\item 1\n\\item 3\n\\item 2\n\\item 1\n\\item 2\n\\item 3\n\\item 1\n\\item 2\n\\item 2\n\\item 2\n\\item 1\n\\item 3\n\\item 1\n\\item 2\n\\item 2\n\\item 3\n\\item 1\n\\item 1\n\\item 2\n\\item 1\n\\item 1\n\\item 3\n\\item 1\n\\item 3\n\\item 2\n\\item 2\n\\item 3\n\\item 1\n\\item 3\n\\item 3\n\\item 2\n\\item 1\n\\item 3\n\\item 3\n\\item 1\n\\item 2\n\\item 1\n\\item 3\n\\item 2\n\\item 1\n\\item 2\n\\item 1\n\\item 1\n\\item 3\n\\item 2\n\\item 1\n\\item 3\n\\item 3\n\\item 2\n\\item 3\n\\item 1\n\\item 2\n\\item 3\n\\item 2\n\\item 3\n\\item 1\n\\item 3\n\\item 2\n\\item 2\n\\item 1\n\\item 2\n\\item 1\n\\item 1\n\\item 2\n\\item 1\n\\item 1\n\\item 3\n\\item 3\n\\item 1\n\\item 2\n\\item 1\n\\item 1\n\\item ⋯\n\\item 1\n\\item 3\n\\item 3\n\\item 1\n\\item 1\n\\item 3\n\\item 2\n\\item 3\n\\item 3\n\\item 1\n\\item 2\n\\item 1\n\\item 3\n\\item 2\n\\item 1\n\\item 2\n\\item 2\n\\item 1\n\\item 2\n\\item 2\n\\item 1\n\\item 1\n\\item 2\n\\item 2\n\\item 1\n\\item 2\n\\item 3\n\\item 1\n\\item 1\n\\item 1\n\\item 1\n\\item 1\n\\item 2\n\\item 2\n\\item 1\n\\item 1\n\\item 2\n\\item 2\n\\item 1\n\\item 2\n\\item 1\n\\item 2\n\\item 3\n\\item 1\n\\item 1\n\\item 1\n\\item 2\n\\item 1\n\\item 3\n\\item 2\n\\item 2\n\\item 1\n\\item 1\n\\item 3\n\\item 1\n\\item 1\n\\item 3\n\\item 1\n\\item 3\n\\item 3\n\\item 1\n\\item 1\n\\item 2\n\\item 3\n\\item 1\n\\item 2\n\\item 3\n\\item 2\n\\item 2\n\\item 1\n\\item 3\n\\item 2\n\\item 3\n\\item 1\n\\item 2\n\\item 1\n\\item 1\n\\item 3\n\\item 1\n\\item 3\n\\item 2\n\\item 1\n\\item 1\n\\item 2\n\\item 3\n\\item 2\n\\item 1\n\\item 2\n\\item 1\n\\item 3\n\\item 1\n\\item 1\n\\item 2\n\\item 2\n\\item 2\n\\item 1\n\\item 2\n\\item 1\n\\item 3\n\\item 2\n\\item 2\n\\item 2\n\\item 2\n\\item 1\n\\item 1\n\\item 3\n\\item 2\n\\item 1\n\\item 1\n\\item 1\n\\item 1\n\\item 3\n\\item 3\n\\item 1\n\\item 3\n\\item 1\n\\item 2\n\\item 1\n\\item 2\n\\item 3\n\\item 2\n\\item 2\n\\item 2\n\\item 2\n\\item 2\n\\item 3\n\\item 3\n\\item 2\n\\item 3\n\\item 3\n\\item 3\n\\item 3\n\\item 3\n\\item 3\n\\item 2\n\\item 1\n\\item 1\n\\item 2\n\\item 3\n\\item 3\n\\item 1\n\\item 2\n\\item 3\n\\item 3\n\\item 3\n\\item 3\n\\item 1\n\\item 1\n\\item 2\n\\item 3\n\\item 2\n\\item 1\n\\item 3\n\\item 3\n\\item 3\n\\item 3\n\\item 1\n\\item 1\n\\item 3\n\\item 3\n\\item 3\n\\item 3\n\\item 3\n\\item 1\n\\item 2\n\\item 3\n\\item 2\n\\item 1\n\\item 2\n\\item 2\n\\item 3\n\\item 1\n\\item 3\n\\item 3\n\\item 1\n\\item 1\n\\item 2\n\\item 1\n\\item 1\n\\item 1\n\\item 3\n\\item 2\n\\item 3\n\\item 2\n\\item 2\n\\item 1\n\\item 1\n\\item 3\n\\item 3\n\\item 2\n\\item 1\n\\item 3\n\\item 3\n\\item 2\n\\item 2\n\\item 2\n\\item 2\n\\item 1\n\\item 3\n\\item 3\n\\end{enumerate*}\n",
            "text/plain": [
              "  [1] 1 2 2 2 2 2 3 3 2 1 1 1 3 1 2 1 1 1 1 1 2 2 2 2 2 1 1 1 3 3 3 3 2 3 3 2 2\n",
              " [38] 1 3 2 1 1 1 3 2 3 3 2 3 3 2 3 1 1 3 1 2 1 3 2 1 1 2 1 3 3 2 3 1 3 1 2 3 3\n",
              " [75] 2 2 1 3 3 3 3 3 2 3 3 2 2 2 1 3 3 3 2 3 2 2 3 2 2 3 3 3 2 3 1 1 3 1 1 2 1\n",
              "[112] 1 2 3 1 3 1 1 2 2 2 2 1 1 3 2 2 3 1 3 2 1 2 3 1 2 2 2 1 3 1 2 2 3 1 1 2 1\n",
              "[149] 1 3 1 3 2 2 3 1 3 3 2 1 3 3 1 2 1 3 2 1 2 1 1 3 2 1 3 3 2 3 1 2 3 2 3 1 3\n",
              "[186] 2 2 1 2 1 1 2 1 1 3 3 1 2 1 1 3 1 3 3 2 1 2 3 2 1 2 3 1 3 3 2 3 3 2 2 2 2\n",
              "[223] 2 2 2 3 3 3 3 1 2 1 3 2 2 3 3 1 1 3 3 1 3 3 2 3 1 3 3 2 3 2 1 3 2 3 3 1 1\n",
              "[260] 1 2 2 3 1 2 2 2 3 3 3 1 2 2 2 3 1 3 3 2 2 3 1 3 1 1 2 3 2 2 3 3 1 3 3 1 2\n",
              "[297] 1 3 3 2 2 3 1 1 1 3 1 2 2 2 1 1 1 1 1 1 2 1 2 1 1 3 2 3 1 1 1 1 2 1 2 1 3\n",
              "[334] 1 2 2 3 3 1 2 3 2 3 3 1 3 2 3 1 1 3 2 2 2 1 3 2 1 3 3 2 2 2 2 1 3 1 2 1 1\n",
              "[371] 1 1 1 2 2 3 3 1 1 1 1 3 3 1 1 3 3 2 2 3 1 2 2 2 2 3 2 2 3 1 1 1 1 2 2 1 1\n",
              "[408] 3 3 3 2 3 3 1 2 2 2 3 2 2 2 1 1 2 1 3 2 2 2 2 3 3 2 3 1 2 1 1 1 3 3 3 3 1\n",
              "[445] 2 1 1 1 3 2 1 1 1 2 2 1 2 2 1 3 2 2 1 3 2 2 2 1 3 3 1 3 1 2 2 3 1 3 1 2 2\n",
              "[482] 3 1 3 3 3 2 3 3 3 3 3 2 1 1 3 3 1 2 2 2 1 1 1 2 2 3 3 1 3 1 2 2 3 3 1 3 3\n",
              "[519] 2 1 1 1 2 3 1 2 3 3 1 2 3 3 3 3 1 1 2 1 1 2 2 2 2 3 1 1 3 1 1 1 2 2 1 2 3\n",
              "[556] 3 2 3 3 3 2 3 3 2 3 3 2 3 3 1 3 2 3 2 3 2 2 2 1 3 3 3 3 1 2 3 3 3 2 3 3 2\n",
              "[593] 2 2 3 1 2 2 1 2 3 2 2 3 1 1 3 3 3 2 3 1 2 1 3 2 1 2 2 1 3 2 1 3 3 1 2 1 3\n",
              "[630] 2 1 3 1 2 2 1 2 1 1 1 1 1 2 2 1 3 1 3 3 1 3 2 3 1 3 1 1 1 2 1 1 2 2 1 1 2\n",
              "[667] 1 2 3 3 2 1 2 1 1 3 2 2 1 3 1 2 3 3 1 1 2 1 2 2 3 3 3 3 2 2 2 1 3 2 1 3 3\n",
              "[704] 1 1 3 2 3 3 1 2 1 3 2 1 2 2 1 2 2 1 1 2 2 1 2 3 1 1 1 1 1 2 2 1 1 2 2 1 2\n",
              "[741] 1 2 3 1 1 1 2 1 3 2 2 1 1 3 1 1 3 1 3 3 1 1 2 3 1 2 3 2 2 1 3 2 3 1 2 1 1\n",
              "[778] 3 1 3 2 1 1 2 3 2 1 2 1 3 1 1 2 2 2 1 2 1 3 2 2 2 2 1 1 3 2 1 1 1 1 3 3 1\n",
              "[815] 3 1 2 1 2 3 2 2 2 2 2 3 3 2 3 3 3 3 3 3 2 1 1 2 3 3 1 2 3 3 3 3 1 1 2 3 2\n",
              "[852] 1 3 3 3 3 1 1 3 3 3 3 3 1 2 3 2 1 2 2 3 1 3 3 1 1 2 1 1 1 3 2 3 2 2 1 1 3\n",
              "[889] 3 2 1 3 3 2 2 2 2 1 3 3"
            ]
          },
          "metadata": {}
        },
        {
          "output_type": "display_data",
          "data": {
            "text/html": [
              "<table class=\"dataframe\">\n",
              "<caption>A tibble: 3 × 252</caption>\n",
              "<thead>\n",
              "\t<tr><th scope=col>label__</th><th scope=col>X0</th><th scope=col>X1.00401606425703</th><th scope=col>X2.00803212851406</th><th scope=col>X3.01204819277108</th><th scope=col>X4.01606425702811</th><th scope=col>X5.02008032128514</th><th scope=col>X6.02409638554217</th><th scope=col>X7.0281124497992</th><th scope=col>X8.03212851405623</th><th scope=col>⋯</th><th scope=col>X241.967871485944</th><th scope=col>X242.971887550201</th><th scope=col>X243.975903614458</th><th scope=col>X244.979919678715</th><th scope=col>X245.983935742972</th><th scope=col>X246.987951807229</th><th scope=col>X247.991967871486</th><th scope=col>X248.995983935743</th><th scope=col>X250</th><th scope=col>label</th></tr>\n",
              "\t<tr><th scope=col>&lt;int&gt;</th><th scope=col>&lt;dbl&gt;</th><th scope=col>&lt;dbl&gt;</th><th scope=col>&lt;dbl&gt;</th><th scope=col>&lt;dbl&gt;</th><th scope=col>&lt;dbl&gt;</th><th scope=col>&lt;dbl&gt;</th><th scope=col>&lt;dbl&gt;</th><th scope=col>&lt;dbl&gt;</th><th scope=col>&lt;dbl&gt;</th><th scope=col>⋯</th><th scope=col>&lt;dbl&gt;</th><th scope=col>&lt;dbl&gt;</th><th scope=col>&lt;dbl&gt;</th><th scope=col>&lt;dbl&gt;</th><th scope=col>&lt;dbl&gt;</th><th scope=col>&lt;dbl&gt;</th><th scope=col>&lt;dbl&gt;</th><th scope=col>&lt;dbl&gt;</th><th scope=col>&lt;dbl&gt;</th><th scope=col>&lt;int&gt;</th></tr>\n",
              "</thead>\n",
              "<tbody>\n",
              "\t<tr><td>1</td><td>-1.031463</td><td>0.9381238</td><td>0.7619864</td><td>0.3631543</td><td>-1.1179412</td><td>-1.051145</td><td>-0.9766807</td><td>-0.8694758</td><td>-0.6892375</td><td>⋯</td><td>-0.8070676</td><td>-0.8182598</td><td>-0.8207339</td><td>-0.8132928</td><td>-0.7969549</td><td>-0.77567272</td><td>-0.75689256</td><td>-0.7496483</td><td>-0.7570393</td><td>1</td></tr>\n",
              "\t<tr><td>2</td><td>-1.031463</td><td>1.2439759</td><td>1.0924697</td><td>0.9004440</td><td> 0.3011754</td><td>-1.159714</td><td>-1.1098127</td><td>-1.0685484</td><td>-1.0338649</td><td>⋯</td><td>-0.8732292</td><td>-0.8234477</td><td>-0.7607812</td><td>-0.6682618</td><td>-0.3380864</td><td>-0.04693168</td><td> 0.02820486</td><td>-0.4113500</td><td>-0.8115784</td><td>2</td></tr>\n",
              "\t<tr><td>3</td><td>-1.031463</td><td>1.3093239</td><td>1.1616772</td><td>0.9787498</td><td> 0.6481497</td><td>-1.168610</td><td>-1.1196122</td><td>-1.0590962</td><td>-0.9943176</td><td>⋯</td><td> 0.8337474</td><td> 0.7125412</td><td>-0.2659209</td><td>-1.0409179</td><td>-1.0587745</td><td>-1.01359887</td><td>-0.96467777</td><td>-0.9151047</td><td>-0.8610245</td><td>3</td></tr>\n",
              "</tbody>\n",
              "</table>\n"
            ],
            "text/markdown": "\nA tibble: 3 × 252\n\n| label__ &lt;int&gt; | X0 &lt;dbl&gt; | X1.00401606425703 &lt;dbl&gt; | X2.00803212851406 &lt;dbl&gt; | X3.01204819277108 &lt;dbl&gt; | X4.01606425702811 &lt;dbl&gt; | X5.02008032128514 &lt;dbl&gt; | X6.02409638554217 &lt;dbl&gt; | X7.0281124497992 &lt;dbl&gt; | X8.03212851405623 &lt;dbl&gt; | ⋯ ⋯ | X241.967871485944 &lt;dbl&gt; | X242.971887550201 &lt;dbl&gt; | X243.975903614458 &lt;dbl&gt; | X244.979919678715 &lt;dbl&gt; | X245.983935742972 &lt;dbl&gt; | X246.987951807229 &lt;dbl&gt; | X247.991967871486 &lt;dbl&gt; | X248.995983935743 &lt;dbl&gt; | X250 &lt;dbl&gt; | label &lt;int&gt; |\n|---|---|---|---|---|---|---|---|---|---|---|---|---|---|---|---|---|---|---|---|---|\n| 1 | -1.031463 | 0.9381238 | 0.7619864 | 0.3631543 | -1.1179412 | -1.051145 | -0.9766807 | -0.8694758 | -0.6892375 | ⋯ | -0.8070676 | -0.8182598 | -0.8207339 | -0.8132928 | -0.7969549 | -0.77567272 | -0.75689256 | -0.7496483 | -0.7570393 | 1 |\n| 2 | -1.031463 | 1.2439759 | 1.0924697 | 0.9004440 |  0.3011754 | -1.159714 | -1.1098127 | -1.0685484 | -1.0338649 | ⋯ | -0.8732292 | -0.8234477 | -0.7607812 | -0.6682618 | -0.3380864 | -0.04693168 |  0.02820486 | -0.4113500 | -0.8115784 | 2 |\n| 3 | -1.031463 | 1.3093239 | 1.1616772 | 0.9787498 |  0.6481497 | -1.168610 | -1.1196122 | -1.0590962 | -0.9943176 | ⋯ |  0.8337474 |  0.7125412 | -0.2659209 | -1.0409179 | -1.0587745 | -1.01359887 | -0.96467777 | -0.9151047 | -0.8610245 | 3 |\n\n",
            "text/latex": "A tibble: 3 × 252\n\\begin{tabular}{lllllllllllllllllllll}\n label\\_\\_ & X0 & X1.00401606425703 & X2.00803212851406 & X3.01204819277108 & X4.01606425702811 & X5.02008032128514 & X6.02409638554217 & X7.0281124497992 & X8.03212851405623 & ⋯ & X241.967871485944 & X242.971887550201 & X243.975903614458 & X244.979919678715 & X245.983935742972 & X246.987951807229 & X247.991967871486 & X248.995983935743 & X250 & label\\\\\n <int> & <dbl> & <dbl> & <dbl> & <dbl> & <dbl> & <dbl> & <dbl> & <dbl> & <dbl> & ⋯ & <dbl> & <dbl> & <dbl> & <dbl> & <dbl> & <dbl> & <dbl> & <dbl> & <dbl> & <int>\\\\\n\\hline\n\t 1 & -1.031463 & 0.9381238 & 0.7619864 & 0.3631543 & -1.1179412 & -1.051145 & -0.9766807 & -0.8694758 & -0.6892375 & ⋯ & -0.8070676 & -0.8182598 & -0.8207339 & -0.8132928 & -0.7969549 & -0.77567272 & -0.75689256 & -0.7496483 & -0.7570393 & 1\\\\\n\t 2 & -1.031463 & 1.2439759 & 1.0924697 & 0.9004440 &  0.3011754 & -1.159714 & -1.1098127 & -1.0685484 & -1.0338649 & ⋯ & -0.8732292 & -0.8234477 & -0.7607812 & -0.6682618 & -0.3380864 & -0.04693168 &  0.02820486 & -0.4113500 & -0.8115784 & 2\\\\\n\t 3 & -1.031463 & 1.3093239 & 1.1616772 & 0.9787498 &  0.6481497 & -1.168610 & -1.1196122 & -1.0590962 & -0.9943176 & ⋯ &  0.8337474 &  0.7125412 & -0.2659209 & -1.0409179 & -1.0587745 & -1.01359887 & -0.96467777 & -0.9151047 & -0.8610245 & 3\\\\\n\\end{tabular}\n",
            "text/plain": [
              "  label__ X0        X1.00401606425703 X2.00803212851406 X3.01204819277108\n",
              "1 1       -1.031463 0.9381238         0.7619864         0.3631543        \n",
              "2 2       -1.031463 1.2439759         1.0924697         0.9004440        \n",
              "3 3       -1.031463 1.3093239         1.1616772         0.9787498        \n",
              "  X4.01606425702811 X5.02008032128514 X6.02409638554217 X7.0281124497992\n",
              "1 -1.1179412        -1.051145         -0.9766807        -0.8694758      \n",
              "2  0.3011754        -1.159714         -1.1098127        -1.0685484      \n",
              "3  0.6481497        -1.168610         -1.1196122        -1.0590962      \n",
              "  X8.03212851405623 ⋯ X241.967871485944 X242.971887550201 X243.975903614458\n",
              "1 -0.6892375        ⋯ -0.8070676        -0.8182598        -0.8207339       \n",
              "2 -1.0338649        ⋯ -0.8732292        -0.8234477        -0.7607812       \n",
              "3 -0.9943176        ⋯  0.8337474         0.7125412        -0.2659209       \n",
              "  X244.979919678715 X245.983935742972 X246.987951807229 X247.991967871486\n",
              "1 -0.8132928        -0.7969549        -0.77567272       -0.75689256      \n",
              "2 -0.6682618        -0.3380864        -0.04693168        0.02820486      \n",
              "3 -1.0409179        -1.0587745        -1.01359887       -0.96467777      \n",
              "  X248.995983935743 X250       label\n",
              "1 -0.7496483        -0.7570393 1    \n",
              "2 -0.4113500        -0.8115784 2    \n",
              "3 -0.9151047        -0.8610245 3    "
            ]
          },
          "metadata": {}
        }
      ]
    },
    {
      "cell_type": "markdown",
      "id": "03d9949c-60ce-4a75-8688-e3c7485122ab",
      "metadata": {
        "id": "03d9949c-60ce-4a75-8688-e3c7485122ab"
      },
      "source": [
        "#### c) Call R's `kmeans` function with 3 clusters. Print the results with `results$labels` and `results$cluster`.\n",
        "*Hint*: Use the `as.matrix()` function to make the `voltages_df` data frame a matrix before calling `kmeans()`."
      ]
    },
    {
      "cell_type": "code",
      "source": [
        "voltages_matrix <- as.matrix(voltages_df)\n",
        "kmeans_function_result <- kmeans(voltages_matrix, centers = 3)\n",
        "kmeans_function_result$centers\n",
        "kmeans_function_result$cluster"
      ],
      "metadata": {
        "colab": {
          "base_uri": "https://localhost:8080/",
          "height": 302
        },
        "id": "pAvtOoVl49sm",
        "outputId": "e6d07d94-f11d-4972-d37c-6a0f4764e123"
      },
      "id": "pAvtOoVl49sm",
      "execution_count": 8,
      "outputs": [
        {
          "output_type": "display_data",
          "data": {
            "text/html": [
              "<table class=\"dataframe\">\n",
              "<caption>A matrix: 3 × 250 of type dbl</caption>\n",
              "<thead>\n",
              "\t<tr><th></th><th scope=col>X0</th><th scope=col>X1.00401606425703</th><th scope=col>X2.00803212851406</th><th scope=col>X3.01204819277108</th><th scope=col>X4.01606425702811</th><th scope=col>X5.02008032128514</th><th scope=col>X6.02409638554217</th><th scope=col>X7.0281124497992</th><th scope=col>X8.03212851405623</th><th scope=col>X9.03614457831325</th><th scope=col>⋯</th><th scope=col>X240.963855421687</th><th scope=col>X241.967871485944</th><th scope=col>X242.971887550201</th><th scope=col>X243.975903614458</th><th scope=col>X244.979919678715</th><th scope=col>X245.983935742972</th><th scope=col>X246.987951807229</th><th scope=col>X247.991967871486</th><th scope=col>X248.995983935743</th><th scope=col>X250</th></tr>\n",
              "</thead>\n",
              "<tbody>\n",
              "\t<tr><th scope=row>1</th><td>-1.031463</td><td>1.309623</td><td>1.1620520</td><td>0.9792874</td><td> 0.6451702</td><td>-1.170639</td><td>-1.119646</td><td>-1.0589724</td><td>-0.9939507</td><td>-0.9229994</td><td>⋯</td><td> 0.2225596</td><td> 0.7762542</td><td> 0.7248267</td><td>-0.1676761</td><td>-0.9950115</td><td>-1.0490881</td><td>-1.0146832</td><td>-0.9660534</td><td>-0.9166152</td><td>-0.8626095</td></tr>\n",
              "\t<tr><th scope=row>2</th><td>-1.031463</td><td>1.091050</td><td>0.9272281</td><td>0.6317991</td><td>-0.4083829</td><td>-1.105430</td><td>-1.043247</td><td>-0.9690121</td><td>-0.8615512</td><td>-0.7841859</td><td>⋯</td><td>-0.8503929</td><td>-0.8401484</td><td>-0.8208538</td><td>-0.7907575</td><td>-0.7407773</td><td>-0.5675206</td><td>-0.4113022</td><td>-0.3643438</td><td>-0.5804991</td><td>-0.7843089</td></tr>\n",
              "\t<tr><th scope=row>3</th><td>-1.031463</td><td>1.309127</td><td>1.1614308</td><td>0.9783963</td><td> 0.6501085</td><td>-1.167275</td><td>-1.119590</td><td>-1.0591777</td><td>-0.9945589</td><td>-0.9242331</td><td>⋯</td><td> 0.4112895</td><td> 0.8715468</td><td> 0.7044639</td><td>-0.3305127</td><td>-1.0710994</td><td>-1.0651429</td><td>-1.0128860</td><td>-0.9637734</td><td>-0.9141117</td><td>-0.8599824</td></tr>\n",
              "</tbody>\n",
              "</table>\n"
            ],
            "text/markdown": "\nA matrix: 3 × 250 of type dbl\n\n| <!--/--> | X0 | X1.00401606425703 | X2.00803212851406 | X3.01204819277108 | X4.01606425702811 | X5.02008032128514 | X6.02409638554217 | X7.0281124497992 | X8.03212851405623 | X9.03614457831325 | ⋯ | X240.963855421687 | X241.967871485944 | X242.971887550201 | X243.975903614458 | X244.979919678715 | X245.983935742972 | X246.987951807229 | X247.991967871486 | X248.995983935743 | X250 |\n|---|---|---|---|---|---|---|---|---|---|---|---|---|---|---|---|---|---|---|---|---|---|\n| 1 | -1.031463 | 1.309623 | 1.1620520 | 0.9792874 |  0.6451702 | -1.170639 | -1.119646 | -1.0589724 | -0.9939507 | -0.9229994 | ⋯ |  0.2225596 |  0.7762542 |  0.7248267 | -0.1676761 | -0.9950115 | -1.0490881 | -1.0146832 | -0.9660534 | -0.9166152 | -0.8626095 |\n| 2 | -1.031463 | 1.091050 | 0.9272281 | 0.6317991 | -0.4083829 | -1.105430 | -1.043247 | -0.9690121 | -0.8615512 | -0.7841859 | ⋯ | -0.8503929 | -0.8401484 | -0.8208538 | -0.7907575 | -0.7407773 | -0.5675206 | -0.4113022 | -0.3643438 | -0.5804991 | -0.7843089 |\n| 3 | -1.031463 | 1.309127 | 1.1614308 | 0.9783963 |  0.6501085 | -1.167275 | -1.119590 | -1.0591777 | -0.9945589 | -0.9242331 | ⋯ |  0.4112895 |  0.8715468 |  0.7044639 | -0.3305127 | -1.0710994 | -1.0651429 | -1.0128860 | -0.9637734 | -0.9141117 | -0.8599824 |\n\n",
            "text/latex": "A matrix: 3 × 250 of type dbl\n\\begin{tabular}{r|lllllllllllllllllllll}\n  & X0 & X1.00401606425703 & X2.00803212851406 & X3.01204819277108 & X4.01606425702811 & X5.02008032128514 & X6.02409638554217 & X7.0281124497992 & X8.03212851405623 & X9.03614457831325 & ⋯ & X240.963855421687 & X241.967871485944 & X242.971887550201 & X243.975903614458 & X244.979919678715 & X245.983935742972 & X246.987951807229 & X247.991967871486 & X248.995983935743 & X250\\\\\n\\hline\n\t1 & -1.031463 & 1.309623 & 1.1620520 & 0.9792874 &  0.6451702 & -1.170639 & -1.119646 & -1.0589724 & -0.9939507 & -0.9229994 & ⋯ &  0.2225596 &  0.7762542 &  0.7248267 & -0.1676761 & -0.9950115 & -1.0490881 & -1.0146832 & -0.9660534 & -0.9166152 & -0.8626095\\\\\n\t2 & -1.031463 & 1.091050 & 0.9272281 & 0.6317991 & -0.4083829 & -1.105430 & -1.043247 & -0.9690121 & -0.8615512 & -0.7841859 & ⋯ & -0.8503929 & -0.8401484 & -0.8208538 & -0.7907575 & -0.7407773 & -0.5675206 & -0.4113022 & -0.3643438 & -0.5804991 & -0.7843089\\\\\n\t3 & -1.031463 & 1.309127 & 1.1614308 & 0.9783963 &  0.6501085 & -1.167275 & -1.119590 & -1.0591777 & -0.9945589 & -0.9242331 & ⋯ &  0.4112895 &  0.8715468 &  0.7044639 & -0.3305127 & -1.0710994 & -1.0651429 & -1.0128860 & -0.9637734 & -0.9141117 & -0.8599824\\\\\n\\end{tabular}\n",
            "text/plain": [
              "  X0        X1.00401606425703 X2.00803212851406 X3.01204819277108\n",
              "1 -1.031463 1.309623          1.1620520         0.9792874        \n",
              "2 -1.031463 1.091050          0.9272281         0.6317991        \n",
              "3 -1.031463 1.309127          1.1614308         0.9783963        \n",
              "  X4.01606425702811 X5.02008032128514 X6.02409638554217 X7.0281124497992\n",
              "1  0.6451702        -1.170639         -1.119646         -1.0589724      \n",
              "2 -0.4083829        -1.105430         -1.043247         -0.9690121      \n",
              "3  0.6501085        -1.167275         -1.119590         -1.0591777      \n",
              "  X8.03212851405623 X9.03614457831325 ⋯ X240.963855421687 X241.967871485944\n",
              "1 -0.9939507        -0.9229994        ⋯  0.2225596         0.7762542       \n",
              "2 -0.8615512        -0.7841859        ⋯ -0.8503929        -0.8401484       \n",
              "3 -0.9945589        -0.9242331        ⋯  0.4112895         0.8715468       \n",
              "  X242.971887550201 X243.975903614458 X244.979919678715 X245.983935742972\n",
              "1  0.7248267        -0.1676761        -0.9950115        -1.0490881       \n",
              "2 -0.8208538        -0.7907575        -0.7407773        -0.5675206       \n",
              "3  0.7044639        -0.3305127        -1.0710994        -1.0651429       \n",
              "  X246.987951807229 X247.991967871486 X248.995983935743 X250      \n",
              "1 -1.0146832        -0.9660534        -0.9166152        -0.8626095\n",
              "2 -0.4113022        -0.3643438        -0.5804991        -0.7843089\n",
              "3 -1.0128860        -0.9637734        -0.9141117        -0.8599824"
            ]
          },
          "metadata": {}
        },
        {
          "output_type": "display_data",
          "data": {
            "text/html": [
              "<style>\n",
              ".list-inline {list-style: none; margin:0; padding: 0}\n",
              ".list-inline>li {display: inline-block}\n",
              ".list-inline>li:not(:last-child)::after {content: \"\\00b7\"; padding: 0 .5ex}\n",
              "</style>\n",
              "<ol class=list-inline><li>2</li><li>2</li><li>2</li><li>2</li><li>2</li><li>2</li><li>1</li><li>1</li><li>2</li><li>2</li><li>2</li><li>2</li><li>3</li><li>2</li><li>2</li><li>2</li><li>2</li><li>2</li><li>2</li><li>2</li><li>2</li><li>2</li><li>2</li><li>2</li><li>2</li><li>2</li><li>2</li><li>2</li><li>3</li><li>3</li><li>1</li><li>3</li><li>2</li><li>1</li><li>3</li><li>2</li><li>2</li><li>2</li><li>3</li><li>2</li><li>2</li><li>2</li><li>2</li><li>1</li><li>2</li><li>3</li><li>1</li><li>2</li><li>3</li><li>1</li><li>2</li><li>3</li><li>2</li><li>2</li><li>1</li><li>2</li><li>2</li><li>2</li><li>3</li><li>2</li><li>2</li><li>2</li><li>2</li><li>2</li><li>1</li><li>3</li><li>2</li><li>3</li><li>2</li><li>3</li><li>2</li><li>2</li><li>1</li><li>3</li><li>2</li><li>2</li><li>2</li><li>1</li><li>3</li><li>1</li><li>1</li><li>3</li><li>2</li><li>3</li><li>3</li><li>2</li><li>2</li><li>2</li><li>2</li><li>3</li><li>3</li><li>3</li><li>2</li><li>3</li><li>2</li><li>2</li><li>3</li><li>2</li><li>2</li><li>3</li><li>3</li><li>3</li><li>2</li><li>1</li><li>2</li><li>2</li><li>3</li><li>2</li><li>2</li><li>2</li><li>2</li><li>2</li><li>2</li><li>1</li><li>2</li><li>3</li><li>2</li><li>2</li><li>2</li><li>2</li><li>2</li><li>2</li><li>2</li><li>2</li><li>3</li><li>2</li><li>2</li><li>3</li><li>2</li><li>3</li><li>2</li><li>2</li><li>2</li><li>3</li><li>2</li><li>2</li><li>2</li><li>2</li><li>2</li><li>1</li><li>2</li><li>2</li><li>2</li><li>3</li><li>2</li><li>2</li><li>2</li><li>2</li><li>2</li><li>3</li><li>2</li><li>3</li><li>2</li><li>2</li><li>1</li><li>2</li><li>3</li><li>1</li><li>2</li><li>2</li><li>3</li><li>3</li><li>2</li><li>2</li><li>2</li><li>3</li><li>2</li><li>2</li><li>2</li><li>2</li><li>2</li><li>1</li><li>2</li><li>2</li><li>1</li><li>1</li><li>2</li><li>3</li><li>2</li><li>2</li><li>1</li><li>2</li><li>1</li><li>2</li><li>1</li><li>2</li><li>2</li><li>2</li><li>2</li><li>2</li><li>2</li><li>2</li><li>2</li><li>2</li><li>3</li><li>3</li><li>2</li><li>2</li><li>2</li><li>2</li><li>⋯</li><li>2</li><li>1</li><li>1</li><li>2</li><li>2</li><li>3</li><li>2</li><li>3</li><li>3</li><li>2</li><li>2</li><li>2</li><li>1</li><li>2</li><li>2</li><li>2</li><li>2</li><li>2</li><li>2</li><li>2</li><li>2</li><li>2</li><li>2</li><li>2</li><li>2</li><li>2</li><li>1</li><li>2</li><li>2</li><li>2</li><li>2</li><li>2</li><li>2</li><li>2</li><li>2</li><li>2</li><li>2</li><li>2</li><li>2</li><li>2</li><li>2</li><li>2</li><li>1</li><li>2</li><li>2</li><li>2</li><li>2</li><li>2</li><li>1</li><li>2</li><li>2</li><li>2</li><li>2</li><li>3</li><li>2</li><li>2</li><li>3</li><li>2</li><li>1</li><li>3</li><li>2</li><li>2</li><li>2</li><li>1</li><li>2</li><li>2</li><li>3</li><li>2</li><li>2</li><li>2</li><li>1</li><li>2</li><li>1</li><li>2</li><li>2</li><li>2</li><li>2</li><li>3</li><li>2</li><li>1</li><li>2</li><li>2</li><li>2</li><li>2</li><li>3</li><li>2</li><li>2</li><li>2</li><li>2</li><li>1</li><li>2</li><li>2</li><li>2</li><li>2</li><li>2</li><li>2</li><li>2</li><li>2</li><li>1</li><li>2</li><li>2</li><li>2</li><li>2</li><li>2</li><li>2</li><li>1</li><li>2</li><li>2</li><li>2</li><li>2</li><li>2</li><li>3</li><li>1</li><li>2</li><li>3</li><li>2</li><li>2</li><li>2</li><li>2</li><li>1</li><li>2</li><li>2</li><li>2</li><li>2</li><li>2</li><li>3</li><li>3</li><li>2</li><li>3</li><li>3</li><li>1</li><li>3</li><li>3</li><li>1</li><li>2</li><li>2</li><li>2</li><li>2</li><li>1</li><li>3</li><li>2</li><li>2</li><li>1</li><li>3</li><li>1</li><li>1</li><li>2</li><li>2</li><li>2</li><li>3</li><li>2</li><li>2</li><li>1</li><li>1</li><li>3</li><li>3</li><li>2</li><li>2</li><li>3</li><li>1</li><li>3</li><li>1</li><li>3</li><li>2</li><li>2</li><li>3</li><li>2</li><li>2</li><li>2</li><li>2</li><li>3</li><li>2</li><li>3</li><li>3</li><li>2</li><li>2</li><li>2</li><li>2</li><li>2</li><li>2</li><li>1</li><li>2</li><li>1</li><li>2</li><li>2</li><li>2</li><li>2</li><li>3</li><li>1</li><li>2</li><li>2</li><li>3</li><li>1</li><li>2</li><li>2</li><li>2</li><li>2</li><li>2</li><li>3</li><li>3</li></ol>\n"
            ],
            "text/markdown": "1. 2\n2. 2\n3. 2\n4. 2\n5. 2\n6. 2\n7. 1\n8. 1\n9. 2\n10. 2\n11. 2\n12. 2\n13. 3\n14. 2\n15. 2\n16. 2\n17. 2\n18. 2\n19. 2\n20. 2\n21. 2\n22. 2\n23. 2\n24. 2\n25. 2\n26. 2\n27. 2\n28. 2\n29. 3\n30. 3\n31. 1\n32. 3\n33. 2\n34. 1\n35. 3\n36. 2\n37. 2\n38. 2\n39. 3\n40. 2\n41. 2\n42. 2\n43. 2\n44. 1\n45. 2\n46. 3\n47. 1\n48. 2\n49. 3\n50. 1\n51. 2\n52. 3\n53. 2\n54. 2\n55. 1\n56. 2\n57. 2\n58. 2\n59. 3\n60. 2\n61. 2\n62. 2\n63. 2\n64. 2\n65. 1\n66. 3\n67. 2\n68. 3\n69. 2\n70. 3\n71. 2\n72. 2\n73. 1\n74. 3\n75. 2\n76. 2\n77. 2\n78. 1\n79. 3\n80. 1\n81. 1\n82. 3\n83. 2\n84. 3\n85. 3\n86. 2\n87. 2\n88. 2\n89. 2\n90. 3\n91. 3\n92. 3\n93. 2\n94. 3\n95. 2\n96. 2\n97. 3\n98. 2\n99. 2\n100. 3\n101. 3\n102. 3\n103. 2\n104. 1\n105. 2\n106. 2\n107. 3\n108. 2\n109. 2\n110. 2\n111. 2\n112. 2\n113. 2\n114. 1\n115. 2\n116. 3\n117. 2\n118. 2\n119. 2\n120. 2\n121. 2\n122. 2\n123. 2\n124. 2\n125. 3\n126. 2\n127. 2\n128. 3\n129. 2\n130. 3\n131. 2\n132. 2\n133. 2\n134. 3\n135. 2\n136. 2\n137. 2\n138. 2\n139. 2\n140. 1\n141. 2\n142. 2\n143. 2\n144. 3\n145. 2\n146. 2\n147. 2\n148. 2\n149. 2\n150. 3\n151. 2\n152. 3\n153. 2\n154. 2\n155. 1\n156. 2\n157. 3\n158. 1\n159. 2\n160. 2\n161. 3\n162. 3\n163. 2\n164. 2\n165. 2\n166. 3\n167. 2\n168. 2\n169. 2\n170. 2\n171. 2\n172. 1\n173. 2\n174. 2\n175. 1\n176. 1\n177. 2\n178. 3\n179. 2\n180. 2\n181. 1\n182. 2\n183. 1\n184. 2\n185. 1\n186. 2\n187. 2\n188. 2\n189. 2\n190. 2\n191. 2\n192. 2\n193. 2\n194. 2\n195. 3\n196. 3\n197. 2\n198. 2\n199. 2\n200. 2\n201. ⋯\n202. 2\n203. 1\n204. 1\n205. 2\n206. 2\n207. 3\n208. 2\n209. 3\n210. 3\n211. 2\n212. 2\n213. 2\n214. 1\n215. 2\n216. 2\n217. 2\n218. 2\n219. 2\n220. 2\n221. 2\n222. 2\n223. 2\n224. 2\n225. 2\n226. 2\n227. 2\n228. 1\n229. 2\n230. 2\n231. 2\n232. 2\n233. 2\n234. 2\n235. 2\n236. 2\n237. 2\n238. 2\n239. 2\n240. 2\n241. 2\n242. 2\n243. 2\n244. 1\n245. 2\n246. 2\n247. 2\n248. 2\n249. 2\n250. 1\n251. 2\n252. 2\n253. 2\n254. 2\n255. 3\n256. 2\n257. 2\n258. 3\n259. 2\n260. 1\n261. 3\n262. 2\n263. 2\n264. 2\n265. 1\n266. 2\n267. 2\n268. 3\n269. 2\n270. 2\n271. 2\n272. 1\n273. 2\n274. 1\n275. 2\n276. 2\n277. 2\n278. 2\n279. 3\n280. 2\n281. 1\n282. 2\n283. 2\n284. 2\n285. 2\n286. 3\n287. 2\n288. 2\n289. 2\n290. 2\n291. 1\n292. 2\n293. 2\n294. 2\n295. 2\n296. 2\n297. 2\n298. 2\n299. 2\n300. 1\n301. 2\n302. 2\n303. 2\n304. 2\n305. 2\n306. 2\n307. 1\n308. 2\n309. 2\n310. 2\n311. 2\n312. 2\n313. 3\n314. 1\n315. 2\n316. 3\n317. 2\n318. 2\n319. 2\n320. 2\n321. 1\n322. 2\n323. 2\n324. 2\n325. 2\n326. 2\n327. 3\n328. 3\n329. 2\n330. 3\n331. 3\n332. 1\n333. 3\n334. 3\n335. 1\n336. 2\n337. 2\n338. 2\n339. 2\n340. 1\n341. 3\n342. 2\n343. 2\n344. 1\n345. 3\n346. 1\n347. 1\n348. 2\n349. 2\n350. 2\n351. 3\n352. 2\n353. 2\n354. 1\n355. 1\n356. 3\n357. 3\n358. 2\n359. 2\n360. 3\n361. 1\n362. 3\n363. 1\n364. 3\n365. 2\n366. 2\n367. 3\n368. 2\n369. 2\n370. 2\n371. 2\n372. 3\n373. 2\n374. 3\n375. 3\n376. 2\n377. 2\n378. 2\n379. 2\n380. 2\n381. 2\n382. 1\n383. 2\n384. 1\n385. 2\n386. 2\n387. 2\n388. 2\n389. 3\n390. 1\n391. 2\n392. 2\n393. 3\n394. 1\n395. 2\n396. 2\n397. 2\n398. 2\n399. 2\n400. 3\n401. 3\n\n\n",
            "text/latex": "\\begin{enumerate*}\n\\item 2\n\\item 2\n\\item 2\n\\item 2\n\\item 2\n\\item 2\n\\item 1\n\\item 1\n\\item 2\n\\item 2\n\\item 2\n\\item 2\n\\item 3\n\\item 2\n\\item 2\n\\item 2\n\\item 2\n\\item 2\n\\item 2\n\\item 2\n\\item 2\n\\item 2\n\\item 2\n\\item 2\n\\item 2\n\\item 2\n\\item 2\n\\item 2\n\\item 3\n\\item 3\n\\item 1\n\\item 3\n\\item 2\n\\item 1\n\\item 3\n\\item 2\n\\item 2\n\\item 2\n\\item 3\n\\item 2\n\\item 2\n\\item 2\n\\item 2\n\\item 1\n\\item 2\n\\item 3\n\\item 1\n\\item 2\n\\item 3\n\\item 1\n\\item 2\n\\item 3\n\\item 2\n\\item 2\n\\item 1\n\\item 2\n\\item 2\n\\item 2\n\\item 3\n\\item 2\n\\item 2\n\\item 2\n\\item 2\n\\item 2\n\\item 1\n\\item 3\n\\item 2\n\\item 3\n\\item 2\n\\item 3\n\\item 2\n\\item 2\n\\item 1\n\\item 3\n\\item 2\n\\item 2\n\\item 2\n\\item 1\n\\item 3\n\\item 1\n\\item 1\n\\item 3\n\\item 2\n\\item 3\n\\item 3\n\\item 2\n\\item 2\n\\item 2\n\\item 2\n\\item 3\n\\item 3\n\\item 3\n\\item 2\n\\item 3\n\\item 2\n\\item 2\n\\item 3\n\\item 2\n\\item 2\n\\item 3\n\\item 3\n\\item 3\n\\item 2\n\\item 1\n\\item 2\n\\item 2\n\\item 3\n\\item 2\n\\item 2\n\\item 2\n\\item 2\n\\item 2\n\\item 2\n\\item 1\n\\item 2\n\\item 3\n\\item 2\n\\item 2\n\\item 2\n\\item 2\n\\item 2\n\\item 2\n\\item 2\n\\item 2\n\\item 3\n\\item 2\n\\item 2\n\\item 3\n\\item 2\n\\item 3\n\\item 2\n\\item 2\n\\item 2\n\\item 3\n\\item 2\n\\item 2\n\\item 2\n\\item 2\n\\item 2\n\\item 1\n\\item 2\n\\item 2\n\\item 2\n\\item 3\n\\item 2\n\\item 2\n\\item 2\n\\item 2\n\\item 2\n\\item 3\n\\item 2\n\\item 3\n\\item 2\n\\item 2\n\\item 1\n\\item 2\n\\item 3\n\\item 1\n\\item 2\n\\item 2\n\\item 3\n\\item 3\n\\item 2\n\\item 2\n\\item 2\n\\item 3\n\\item 2\n\\item 2\n\\item 2\n\\item 2\n\\item 2\n\\item 1\n\\item 2\n\\item 2\n\\item 1\n\\item 1\n\\item 2\n\\item 3\n\\item 2\n\\item 2\n\\item 1\n\\item 2\n\\item 1\n\\item 2\n\\item 1\n\\item 2\n\\item 2\n\\item 2\n\\item 2\n\\item 2\n\\item 2\n\\item 2\n\\item 2\n\\item 2\n\\item 3\n\\item 3\n\\item 2\n\\item 2\n\\item 2\n\\item 2\n\\item ⋯\n\\item 2\n\\item 1\n\\item 1\n\\item 2\n\\item 2\n\\item 3\n\\item 2\n\\item 3\n\\item 3\n\\item 2\n\\item 2\n\\item 2\n\\item 1\n\\item 2\n\\item 2\n\\item 2\n\\item 2\n\\item 2\n\\item 2\n\\item 2\n\\item 2\n\\item 2\n\\item 2\n\\item 2\n\\item 2\n\\item 2\n\\item 1\n\\item 2\n\\item 2\n\\item 2\n\\item 2\n\\item 2\n\\item 2\n\\item 2\n\\item 2\n\\item 2\n\\item 2\n\\item 2\n\\item 2\n\\item 2\n\\item 2\n\\item 2\n\\item 1\n\\item 2\n\\item 2\n\\item 2\n\\item 2\n\\item 2\n\\item 1\n\\item 2\n\\item 2\n\\item 2\n\\item 2\n\\item 3\n\\item 2\n\\item 2\n\\item 3\n\\item 2\n\\item 1\n\\item 3\n\\item 2\n\\item 2\n\\item 2\n\\item 1\n\\item 2\n\\item 2\n\\item 3\n\\item 2\n\\item 2\n\\item 2\n\\item 1\n\\item 2\n\\item 1\n\\item 2\n\\item 2\n\\item 2\n\\item 2\n\\item 3\n\\item 2\n\\item 1\n\\item 2\n\\item 2\n\\item 2\n\\item 2\n\\item 3\n\\item 2\n\\item 2\n\\item 2\n\\item 2\n\\item 1\n\\item 2\n\\item 2\n\\item 2\n\\item 2\n\\item 2\n\\item 2\n\\item 2\n\\item 2\n\\item 1\n\\item 2\n\\item 2\n\\item 2\n\\item 2\n\\item 2\n\\item 2\n\\item 1\n\\item 2\n\\item 2\n\\item 2\n\\item 2\n\\item 2\n\\item 3\n\\item 1\n\\item 2\n\\item 3\n\\item 2\n\\item 2\n\\item 2\n\\item 2\n\\item 1\n\\item 2\n\\item 2\n\\item 2\n\\item 2\n\\item 2\n\\item 3\n\\item 3\n\\item 2\n\\item 3\n\\item 3\n\\item 1\n\\item 3\n\\item 3\n\\item 1\n\\item 2\n\\item 2\n\\item 2\n\\item 2\n\\item 1\n\\item 3\n\\item 2\n\\item 2\n\\item 1\n\\item 3\n\\item 1\n\\item 1\n\\item 2\n\\item 2\n\\item 2\n\\item 3\n\\item 2\n\\item 2\n\\item 1\n\\item 1\n\\item 3\n\\item 3\n\\item 2\n\\item 2\n\\item 3\n\\item 1\n\\item 3\n\\item 1\n\\item 3\n\\item 2\n\\item 2\n\\item 3\n\\item 2\n\\item 2\n\\item 2\n\\item 2\n\\item 3\n\\item 2\n\\item 3\n\\item 3\n\\item 2\n\\item 2\n\\item 2\n\\item 2\n\\item 2\n\\item 2\n\\item 1\n\\item 2\n\\item 1\n\\item 2\n\\item 2\n\\item 2\n\\item 2\n\\item 3\n\\item 1\n\\item 2\n\\item 2\n\\item 3\n\\item 1\n\\item 2\n\\item 2\n\\item 2\n\\item 2\n\\item 2\n\\item 3\n\\item 3\n\\end{enumerate*}\n",
            "text/plain": [
              "  [1] 2 2 2 2 2 2 1 1 2 2 2 2 3 2 2 2 2 2 2 2 2 2 2 2 2 2 2 2 3 3 1 3 2 1 3 2 2\n",
              " [38] 2 3 2 2 2 2 1 2 3 1 2 3 1 2 3 2 2 1 2 2 2 3 2 2 2 2 2 1 3 2 3 2 3 2 2 1 3\n",
              " [75] 2 2 2 1 3 1 1 3 2 3 3 2 2 2 2 3 3 3 2 3 2 2 3 2 2 3 3 3 2 1 2 2 3 2 2 2 2\n",
              "[112] 2 2 1 2 3 2 2 2 2 2 2 2 2 3 2 2 3 2 3 2 2 2 3 2 2 2 2 2 1 2 2 2 3 2 2 2 2\n",
              "[149] 2 3 2 3 2 2 1 2 3 1 2 2 3 3 2 2 2 3 2 2 2 2 2 1 2 2 1 1 2 3 2 2 1 2 1 2 1\n",
              "[186] 2 2 2 2 2 2 2 2 2 3 3 2 2 2 2 1 2 3 1 2 2 2 3 2 2 2 3 2 3 3 2 3 3 2 2 2 2\n",
              "[223] 2 2 2 3 1 3 3 2 2 2 3 2 2 3 3 2 2 1 3 2 3 1 2 1 2 3 3 2 3 2 2 3 2 1 3 2 2\n",
              "[260] 2 2 2 3 2 2 2 2 1 3 1 2 2 2 2 3 2 1 3 2 2 1 2 3 2 2 2 1 2 2 3 3 2 1 3 2 2\n",
              "[297] 2 1 3 2 2 3 2 2 2 1 2 2 2 2 2 2 2 2 2 2 2 2 2 2 2 1 2 3 2 2 2 2 2 2 2 2 1\n",
              "[334] 2 2 2 1 1 2 2 3 2 3 1 2 1 2 3 2 2 1 2 2 2 2 3 2 2 3 3 2 2 2 2 2 3 2 2 2 2\n",
              "[371] 2 2 2 2 2 3 3 2 2 2 2 3 3 2 2 3 1 2 2 3 2 2 2 2 2 3 2 2 3 2 2 2 2 2 2 2 2\n",
              "[408] 3 3 1 2 3 3 2 2 2 2 1 2 2 2 2 2 2 2 3 2 2 2 2 1 3 2 1 2 2 2 2 2 1 3 1 1 2\n",
              "[445] 2 2 2 2 3 2 2 2 2 2 2 2 2 2 2 3 2 2 2 1 2 2 2 2 1 1 2 3 2 2 2 1 2 3 2 2 2\n",
              "[482] 3 2 3 3 1 2 3 3 3 1 1 2 2 2 3 3 2 2 2 2 2 2 2 2 2 3 3 2 3 2 2 2 1 3 2 3 1\n",
              "[519] 2 2 2 2 2 3 2 2 3 3 2 2 3 1 3 3 2 2 2 2 2 2 2 2 2 1 2 2 1 2 2 2 2 2 2 2 3\n",
              "[556] 1 2 3 1 1 2 3 1 2 3 1 2 1 1 2 3 2 1 2 3 2 2 2 2 3 1 1 3 2 2 3 3 3 2 3 3 2\n",
              "[593] 2 2 3 2 2 2 2 2 1 2 2 3 2 2 3 3 1 2 1 2 2 2 3 2 2 2 2 2 3 2 2 3 3 2 2 2 1\n",
              "[630] 2 2 3 2 2 2 2 2 2 2 2 2 2 2 2 2 1 2 1 1 2 1 2 3 2 3 2 2 2 2 2 2 2 2 2 2 2\n",
              "[667] 2 2 1 3 2 2 2 2 2 3 2 2 2 1 2 2 3 1 2 2 2 2 2 2 3 3 1 3 2 2 2 2 1 2 2 1 1\n",
              "[704] 2 2 3 2 3 3 2 2 2 1 2 2 2 2 2 2 2 2 2 2 2 2 2 1 2 2 2 2 2 2 2 2 2 2 2 2 2\n",
              "[741] 2 2 1 2 2 2 2 2 1 2 2 2 2 3 2 2 3 2 1 3 2 2 2 1 2 2 3 2 2 2 1 2 1 2 2 2 2\n",
              "[778] 3 2 1 2 2 2 2 3 2 2 2 2 1 2 2 2 2 2 2 2 2 1 2 2 2 2 2 2 1 2 2 2 2 2 3 1 2\n",
              "[815] 3 2 2 2 2 1 2 2 2 2 2 3 3 2 3 3 1 3 3 1 2 2 2 2 1 3 2 2 1 3 1 1 2 2 2 3 2\n",
              "[852] 2 1 1 3 3 2 2 3 1 3 1 3 2 2 3 2 2 2 2 3 2 3 3 2 2 2 2 2 2 1 2 1 2 2 2 2 3\n",
              "[889] 1 2 2 3 1 2 2 2 2 2 3 3"
            ]
          },
          "metadata": {}
        }
      ]
    },
    {
      "cell_type": "code",
      "source": [
        "install.packages(\"gridExtra\")"
      ],
      "metadata": {
        "colab": {
          "base_uri": "https://localhost:8080/"
        },
        "id": "jcJmPXQNgSnU",
        "outputId": "b430dc9c-6131-42f5-ce95-ed2e37897a8c"
      },
      "id": "jcJmPXQNgSnU",
      "execution_count": 9,
      "outputs": [
        {
          "output_type": "stream",
          "name": "stderr",
          "text": [
            "Installing package into ‘/usr/local/lib/R/site-library’\n",
            "(as ‘lib’ is unspecified)\n",
            "\n"
          ]
        }
      ]
    },
    {
      "cell_type": "markdown",
      "id": "4944ea46-ed01-413b-8b55-d55f383413de",
      "metadata": {
        "id": "4944ea46-ed01-413b-8b55-d55f383413de"
      },
      "source": [
        "#### d) Are your labels/clusters the same? If not, why? Are your means the same?\n",
        "\n",
        "No they are not the same. The labels/clusters change base on the initial assignments which is random, and so the labels the points are assigned to might be different even though the overall pattern is similar. Our means are not exactly the same."
      ]
    },
    {
      "cell_type": "markdown",
      "id": "6228e5ce-269f-4d83-b94e-40f3c4a137cd",
      "metadata": {
        "id": "6228e5ce-269f-4d83-b94e-40f3c4a137cd"
      },
      "source": [
        "## Question 3\n",
        "#### a) Explain the process of using a for loop to assign clusters for kmeans.\n",
        "\n",
        "For the For Loop, you have to loop over every data point, and within it loop over the clusters means to get the distance between the centroid and the point, and obtain the smallest distance."
      ]
    },
    {
      "cell_type": "markdown",
      "id": "2815b679-8bd1-4ec2-85d3-e42166f3e0ff",
      "metadata": {
        "id": "2815b679-8bd1-4ec2-85d3-e42166f3e0ff"
      },
      "source": [
        "#### b) Explain the process of vectorizing the code to assign clusters for kmeans.\n",
        "\n",
        "In the vectorizing process, you take the centroids and the points and make them into two matrices, then perform matrix operations to obtain the smallest distance."
      ]
    },
    {
      "cell_type": "markdown",
      "id": "c6be7b85-c4f0-4626-b7f5-0ba921efcb6d",
      "metadata": {
        "id": "c6be7b85-c4f0-4626-b7f5-0ba921efcb6d"
      },
      "source": [
        "#### c) State which (for loops or vectorizing) is more efficient and why.\n",
        "\n",
        "Vectorizing is faster because you can obtain the smallest distance in one step through matrix operations without explicit loops. The double loops approach is more time-consuming."
      ]
    },
    {
      "cell_type": "markdown",
      "id": "3d2824d8-b8b6-4746-8fdc-8b3a8a1ca49d",
      "metadata": {
        "id": "3d2824d8-b8b6-4746-8fdc-8b3a8a1ca49d"
      },
      "source": [
        "## Question 4\n",
        "#### When does `kmeans` fail? What assumption does `kmeans` use that causes it to fail in this situation?\n",
        "\n",
        "Kmeans fail when the clusters are different in size or nonspherical. Kmeans assumes the data is in a vector space, the clusters are characterized by the cluster means and are relatively the same size, and that the distance between points and centroids determine the assignment equally."
      ]
    },
    {
      "cell_type": "markdown",
      "id": "20c5a711-449c-48e0-b02b-8ad3346e8d38",
      "metadata": {
        "id": "20c5a711-449c-48e0-b02b-8ad3346e8d38"
      },
      "source": [
        "## Question 5\n",
        "#### What assumption do Guassian mixture models make?\n",
        "\n",
        "Gaussian Mixture Models assume the data comes from a combination of multiple Gaussian distributions. This means the uniformity assumption is relaxed and it allows us to work with clusters of different sizes and shapes."
      ]
    },
    {
      "cell_type": "markdown",
      "id": "ed1a4f52-f2d5-45d7-aeb2-a05ccab9e2fe",
      "metadata": {
        "id": "ed1a4f52-f2d5-45d7-aeb2-a05ccab9e2fe"
      },
      "source": [
        "## Question 6\n",
        "#### What assumption does spectral clustering make? Why does this help us?\n",
        "\n",
        "Spectral clustering assumes that if two points are close together (pairwise), they are more probable to belong in the same cluster. This is different from k-means because k-means determine clusters based on distance from centroids. Spectral clustering lowers the assumptions required by k-means and allowed for more variety of data that can be used for clustering."
      ]
    },
    {
      "cell_type": "markdown",
      "id": "ede993cf-222f-4c5b-b09e-bc2c988a777e",
      "metadata": {
        "id": "ede993cf-222f-4c5b-b09e-bc2c988a777e"
      },
      "source": [
        "## Question 7\n",
        "#### Define the gap statistic method. What do we use it for?\n",
        "\n",
        "The gap statistic method measures the dispersion in both the clustering of our choice, and a \"randomized\" data, and then calcuates the difference (gap).\n",
        "\n",
        "It is used to determine the optimal number of clusters (gap is considerably large) and help consider if our clustering is statistically better in performance than at random."
      ]
    }
  ],
  "metadata": {
    "kernelspec": {
      "display_name": "R",
      "language": "R",
      "name": "ir"
    },
    "language_info": {
      "codemirror_mode": "r",
      "file_extension": ".r",
      "mimetype": "text/x-r-source",
      "name": "R",
      "pygments_lexer": "r",
      "version": "4.3.3"
    },
    "colab": {
      "provenance": []
    }
  },
  "nbformat": 4,
  "nbformat_minor": 5
}